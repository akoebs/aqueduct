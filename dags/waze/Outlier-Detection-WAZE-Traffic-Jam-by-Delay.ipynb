{
 "cells": [
  {
   "cell_type": "code",
   "execution_count": 308,
   "metadata": {},
   "outputs": [],
   "source": [
    "import os\n",
    "import numpy as np\n",
    "import pandas as pd\n",
    "from sqlalchemy import create_engine\n",
    "from mapboxgl.viz import LinestringViz\n",
    "from mapboxgl.utils import create_color_stops, create_numeric_stops\n",
    "from geojson import Feature, FeatureCollection, LineString\n",
    "\n",
    "#categoried by road_types. from 10mil rows of data, outlier upperbounds -- mean+2std:\n",
    "upperbound_delay_rt1_2std = 364.2580985017166 \n",
    "upperbound_delay_rt2_2std = 416.00629003480043\n",
    "upperbound_delay_rt3_2std = 1337.7260891639444\n",
    "upperbound_delay_rt4_2std = 393.1583664937325\n",
    "upperbound_delay_rt6_2std = 494.9713645058797\n",
    "upperbound_delay_rt7_2std = 366.12815975980857\n",
    "upperbound_delay_rt17_2std = -1.0\n",
    "upperbound_delay_rt20_2std = -1.0"
   ]
  },
  {
   "cell_type": "code",
   "execution_count": 2,
   "metadata": {},
   "outputs": [],
   "source": [
    "# Mapbox token\n",
    "token = os.getenv('MAPBOX_ACCESS_TOKEN')\n",
    "\n",
    "# Postgres Database login info\n",
    "USER = os.getenv('WAZE_USER')\n",
    "PASS = os.getenv('WAZE_PASS')\n",
    "HOST = 'datalake.cyuk6whwgqww.us-west-2.rds.amazonaws.com'\n",
    "PORT = '5432'\n",
    "DB = 'db_datalake'\n",
    "\n",
    "uri = 'postgresql://{}:{}@{}:{}/{}'.format(USER, PASS, HOST, PORT, DB)\n",
    "engine = create_engine(uri)"
   ]
  },
  {
   "cell_type": "code",
   "execution_count": 3,
   "metadata": {},
   "outputs": [],
   "source": [
    "df_datafiles = pd.read_sql_query(\"select * from waze.data_files;\", con=engine)"
   ]
  },
  {
   "cell_type": "code",
   "execution_count": 4,
   "metadata": {},
   "outputs": [],
   "source": [
    "df = pd.read_csv('waze_jams_10mil.csv')"
   ]
  },
  {
   "cell_type": "code",
   "execution_count": 665,
   "metadata": {},
   "outputs": [
    {
     "data": {
      "text/html": [
       "<div>\n",
       "<style scoped>\n",
       "    .dataframe tbody tr th:only-of-type {\n",
       "        vertical-align: middle;\n",
       "    }\n",
       "\n",
       "    .dataframe tbody tr th {\n",
       "        vertical-align: top;\n",
       "    }\n",
       "\n",
       "    .dataframe thead th {\n",
       "        text-align: right;\n",
       "    }\n",
       "</style>\n",
       "<table border=\"1\" class=\"dataframe\">\n",
       "  <thead>\n",
       "    <tr style=\"text-align: right;\">\n",
       "      <th></th>\n",
       "      <th>id</th>\n",
       "      <th>start_time_millis</th>\n",
       "      <th>end_time_millis</th>\n",
       "      <th>start_time</th>\n",
       "      <th>end_time</th>\n",
       "      <th>date_created</th>\n",
       "      <th>date_updated</th>\n",
       "      <th>file_name</th>\n",
       "      <th>json_hash</th>\n",
       "    </tr>\n",
       "  </thead>\n",
       "  <tbody>\n",
       "    <tr>\n",
       "      <th>0</th>\n",
       "      <td>1</td>\n",
       "      <td>1513033380000</td>\n",
       "      <td>1513033440000</td>\n",
       "      <td>2017-12-11 23:03:00</td>\n",
       "      <td>2017-12-11 23:04:00</td>\n",
       "      <td>2018-06-12</td>\n",
       "      <td>2018-06-12</td>\n",
       "      <td>wazedata_2017_12_11_23_06_03_062.json</td>\n",
       "      <td>367f73e1e1f190bc817499e550575824</td>\n",
       "    </tr>\n",
       "    <tr>\n",
       "      <th>1</th>\n",
       "      <td>2</td>\n",
       "      <td>1513033500000</td>\n",
       "      <td>1513033560000</td>\n",
       "      <td>2017-12-11 23:05:00</td>\n",
       "      <td>2017-12-11 23:06:00</td>\n",
       "      <td>2018-06-12</td>\n",
       "      <td>2018-06-12</td>\n",
       "      <td>wazedata_2017_12_11_23_08_02_202.json</td>\n",
       "      <td>7063d4be9abff1f0958d07811f0a7b0b</td>\n",
       "    </tr>\n",
       "    <tr>\n",
       "      <th>2</th>\n",
       "      <td>3</td>\n",
       "      <td>1513033620000</td>\n",
       "      <td>1513033680000</td>\n",
       "      <td>2017-12-11 23:07:00</td>\n",
       "      <td>2017-12-11 23:08:00</td>\n",
       "      <td>2018-06-12</td>\n",
       "      <td>2018-06-12</td>\n",
       "      <td>wazedata_2017_12_11_23_10_01_621.json</td>\n",
       "      <td>5e5d4e897f7b09d856501fbd6fb850d7</td>\n",
       "    </tr>\n",
       "    <tr>\n",
       "      <th>3</th>\n",
       "      <td>4</td>\n",
       "      <td>1513033740000</td>\n",
       "      <td>1513033800000</td>\n",
       "      <td>2017-12-11 23:09:00</td>\n",
       "      <td>2017-12-11 23:10:00</td>\n",
       "      <td>2018-06-12</td>\n",
       "      <td>2018-06-12</td>\n",
       "      <td>wazedata_2017_12_11_23_12_01_862.json</td>\n",
       "      <td>fef7efe233322d955327b2355e8a5e28</td>\n",
       "    </tr>\n",
       "    <tr>\n",
       "      <th>4</th>\n",
       "      <td>5</td>\n",
       "      <td>1513033860000</td>\n",
       "      <td>1513033920000</td>\n",
       "      <td>2017-12-11 23:11:00</td>\n",
       "      <td>2017-12-11 23:12:00</td>\n",
       "      <td>2018-06-12</td>\n",
       "      <td>2018-06-12</td>\n",
       "      <td>wazedata_2017_12_11_23_14_01_742.json</td>\n",
       "      <td>1247d10314b085dcd3a9c0e527e608f8</td>\n",
       "    </tr>\n",
       "  </tbody>\n",
       "</table>\n",
       "</div>"
      ],
      "text/plain": [
       "   id  start_time_millis  end_time_millis          start_time  \\\n",
       "0   1      1513033380000    1513033440000 2017-12-11 23:03:00   \n",
       "1   2      1513033500000    1513033560000 2017-12-11 23:05:00   \n",
       "2   3      1513033620000    1513033680000 2017-12-11 23:07:00   \n",
       "3   4      1513033740000    1513033800000 2017-12-11 23:09:00   \n",
       "4   5      1513033860000    1513033920000 2017-12-11 23:11:00   \n",
       "\n",
       "             end_time date_created date_updated  \\\n",
       "0 2017-12-11 23:04:00   2018-06-12   2018-06-12   \n",
       "1 2017-12-11 23:06:00   2018-06-12   2018-06-12   \n",
       "2 2017-12-11 23:08:00   2018-06-12   2018-06-12   \n",
       "3 2017-12-11 23:10:00   2018-06-12   2018-06-12   \n",
       "4 2017-12-11 23:12:00   2018-06-12   2018-06-12   \n",
       "\n",
       "                               file_name                         json_hash  \n",
       "0  wazedata_2017_12_11_23_06_03_062.json  367f73e1e1f190bc817499e550575824  \n",
       "1  wazedata_2017_12_11_23_08_02_202.json  7063d4be9abff1f0958d07811f0a7b0b  \n",
       "2  wazedata_2017_12_11_23_10_01_621.json  5e5d4e897f7b09d856501fbd6fb850d7  \n",
       "3  wazedata_2017_12_11_23_12_01_862.json  fef7efe233322d955327b2355e8a5e28  \n",
       "4  wazedata_2017_12_11_23_14_01_742.json  1247d10314b085dcd3a9c0e527e608f8  "
      ]
     },
     "execution_count": 665,
     "metadata": {},
     "output_type": "execute_result"
    }
   ],
   "source": [
    "df_datafiles.head()"
   ]
  },
  {
   "cell_type": "code",
   "execution_count": 666,
   "metadata": {},
   "outputs": [
    {
     "data": {
      "text/html": [
       "<div>\n",
       "<style scoped>\n",
       "    .dataframe tbody tr th:only-of-type {\n",
       "        vertical-align: middle;\n",
       "    }\n",
       "\n",
       "    .dataframe tbody tr th {\n",
       "        vertical-align: top;\n",
       "    }\n",
       "\n",
       "    .dataframe thead th {\n",
       "        text-align: right;\n",
       "    }\n",
       "</style>\n",
       "<table border=\"1\" class=\"dataframe\">\n",
       "  <thead>\n",
       "    <tr style=\"text-align: right;\">\n",
       "      <th></th>\n",
       "      <th>id</th>\n",
       "      <th>uuid</th>\n",
       "      <th>pub_millis</th>\n",
       "      <th>pub_utc_date</th>\n",
       "      <th>start_node</th>\n",
       "      <th>end_node</th>\n",
       "      <th>road_type</th>\n",
       "      <th>street</th>\n",
       "      <th>city</th>\n",
       "      <th>country</th>\n",
       "      <th>...</th>\n",
       "      <th>speed_kmh</th>\n",
       "      <th>length</th>\n",
       "      <th>turn_type</th>\n",
       "      <th>level</th>\n",
       "      <th>blocking_alert_id</th>\n",
       "      <th>line</th>\n",
       "      <th>type</th>\n",
       "      <th>turn_line</th>\n",
       "      <th>datafile_id</th>\n",
       "      <th>pid</th>\n",
       "    </tr>\n",
       "  </thead>\n",
       "  <tbody>\n",
       "    <tr>\n",
       "      <th>0</th>\n",
       "      <td>1866670844</td>\n",
       "      <td>1866670844</td>\n",
       "      <td>1512561891461</td>\n",
       "      <td>2017-12-06 12:04:51.461</td>\n",
       "      <td>NaN</td>\n",
       "      <td>S Hope St</td>\n",
       "      <td>7</td>\n",
       "      <td>Hope St</td>\n",
       "      <td>Los Angeles, CA</td>\n",
       "      <td>US</td>\n",
       "      <td>...</td>\n",
       "      <td>NaN</td>\n",
       "      <td>250</td>\n",
       "      <td>NONE</td>\n",
       "      <td>5</td>\n",
       "      <td>4fcf81c4-0e54-323b-9e31-4e9289b92788</td>\n",
       "      <td>[{'x': -118.253027, 'y': 34.054704}, {'x': -11...</td>\n",
       "      <td>NONE</td>\n",
       "      <td>NaN</td>\n",
       "      <td>501</td>\n",
       "      <td>194017</td>\n",
       "    </tr>\n",
       "    <tr>\n",
       "      <th>1</th>\n",
       "      <td>1866670844</td>\n",
       "      <td>1866670844</td>\n",
       "      <td>1512561891461</td>\n",
       "      <td>2017-12-06 12:04:51.461</td>\n",
       "      <td>NaN</td>\n",
       "      <td>S Hope St</td>\n",
       "      <td>7</td>\n",
       "      <td>Hope St</td>\n",
       "      <td>Los Angeles, CA</td>\n",
       "      <td>US</td>\n",
       "      <td>...</td>\n",
       "      <td>NaN</td>\n",
       "      <td>250</td>\n",
       "      <td>NONE</td>\n",
       "      <td>5</td>\n",
       "      <td>4fcf81c4-0e54-323b-9e31-4e9289b92788</td>\n",
       "      <td>[{'x': -118.253027, 'y': 34.054704}, {'x': -11...</td>\n",
       "      <td>NONE</td>\n",
       "      <td>NaN</td>\n",
       "      <td>1000</td>\n",
       "      <td>531318</td>\n",
       "    </tr>\n",
       "    <tr>\n",
       "      <th>2</th>\n",
       "      <td>1866670844</td>\n",
       "      <td>1866670844</td>\n",
       "      <td>1512561891461</td>\n",
       "      <td>2017-12-06 12:04:51.461</td>\n",
       "      <td>NaN</td>\n",
       "      <td>S Hope St</td>\n",
       "      <td>7</td>\n",
       "      <td>Hope St</td>\n",
       "      <td>Los Angeles, CA</td>\n",
       "      <td>US</td>\n",
       "      <td>...</td>\n",
       "      <td>NaN</td>\n",
       "      <td>250</td>\n",
       "      <td>NONE</td>\n",
       "      <td>5</td>\n",
       "      <td>4fcf81c4-0e54-323b-9e31-4e9289b92788</td>\n",
       "      <td>[{'x': -118.253027, 'y': 34.054704}, {'x': -11...</td>\n",
       "      <td>NONE</td>\n",
       "      <td>NaN</td>\n",
       "      <td>154</td>\n",
       "      <td>144247</td>\n",
       "    </tr>\n",
       "    <tr>\n",
       "      <th>3</th>\n",
       "      <td>1866670844</td>\n",
       "      <td>1866670844</td>\n",
       "      <td>1512561891461</td>\n",
       "      <td>2017-12-06 12:04:51.461</td>\n",
       "      <td>NaN</td>\n",
       "      <td>S Hope St</td>\n",
       "      <td>7</td>\n",
       "      <td>Hope St</td>\n",
       "      <td>Los Angeles, CA</td>\n",
       "      <td>US</td>\n",
       "      <td>...</td>\n",
       "      <td>NaN</td>\n",
       "      <td>250</td>\n",
       "      <td>NONE</td>\n",
       "      <td>5</td>\n",
       "      <td>4fcf81c4-0e54-323b-9e31-4e9289b92788</td>\n",
       "      <td>[{'x': -118.253027, 'y': 34.054704}, {'x': -11...</td>\n",
       "      <td>NONE</td>\n",
       "      <td>NaN</td>\n",
       "      <td>309</td>\n",
       "      <td>165476</td>\n",
       "    </tr>\n",
       "    <tr>\n",
       "      <th>4</th>\n",
       "      <td>1866670844</td>\n",
       "      <td>1866670844</td>\n",
       "      <td>1512561891461</td>\n",
       "      <td>2017-12-06 12:04:51.461</td>\n",
       "      <td>NaN</td>\n",
       "      <td>S Hope St</td>\n",
       "      <td>7</td>\n",
       "      <td>Hope St</td>\n",
       "      <td>Los Angeles, CA</td>\n",
       "      <td>US</td>\n",
       "      <td>...</td>\n",
       "      <td>NaN</td>\n",
       "      <td>250</td>\n",
       "      <td>NONE</td>\n",
       "      <td>5</td>\n",
       "      <td>4fcf81c4-0e54-323b-9e31-4e9289b92788</td>\n",
       "      <td>[{'x': -118.253027, 'y': 34.054704}, {'x': -11...</td>\n",
       "      <td>NONE</td>\n",
       "      <td>NaN</td>\n",
       "      <td>51</td>\n",
       "      <td>44394</td>\n",
       "    </tr>\n",
       "  </tbody>\n",
       "</table>\n",
       "<p>5 rows × 22 columns</p>\n",
       "</div>"
      ],
      "text/plain": [
       "           id        uuid     pub_millis             pub_utc_date start_node  \\\n",
       "0  1866670844  1866670844  1512561891461  2017-12-06 12:04:51.461        NaN   \n",
       "1  1866670844  1866670844  1512561891461  2017-12-06 12:04:51.461        NaN   \n",
       "2  1866670844  1866670844  1512561891461  2017-12-06 12:04:51.461        NaN   \n",
       "3  1866670844  1866670844  1512561891461  2017-12-06 12:04:51.461        NaN   \n",
       "4  1866670844  1866670844  1512561891461  2017-12-06 12:04:51.461        NaN   \n",
       "\n",
       "    end_node  road_type   street             city country   ...    speed_kmh  \\\n",
       "0  S Hope St          7  Hope St  Los Angeles, CA      US   ...          NaN   \n",
       "1  S Hope St          7  Hope St  Los Angeles, CA      US   ...          NaN   \n",
       "2  S Hope St          7  Hope St  Los Angeles, CA      US   ...          NaN   \n",
       "3  S Hope St          7  Hope St  Los Angeles, CA      US   ...          NaN   \n",
       "4  S Hope St          7  Hope St  Los Angeles, CA      US   ...          NaN   \n",
       "\n",
       "   length  turn_type  level                     blocking_alert_id  \\\n",
       "0     250       NONE      5  4fcf81c4-0e54-323b-9e31-4e9289b92788   \n",
       "1     250       NONE      5  4fcf81c4-0e54-323b-9e31-4e9289b92788   \n",
       "2     250       NONE      5  4fcf81c4-0e54-323b-9e31-4e9289b92788   \n",
       "3     250       NONE      5  4fcf81c4-0e54-323b-9e31-4e9289b92788   \n",
       "4     250       NONE      5  4fcf81c4-0e54-323b-9e31-4e9289b92788   \n",
       "\n",
       "                                                line  type turn_line  \\\n",
       "0  [{'x': -118.253027, 'y': 34.054704}, {'x': -11...  NONE       NaN   \n",
       "1  [{'x': -118.253027, 'y': 34.054704}, {'x': -11...  NONE       NaN   \n",
       "2  [{'x': -118.253027, 'y': 34.054704}, {'x': -11...  NONE       NaN   \n",
       "3  [{'x': -118.253027, 'y': 34.054704}, {'x': -11...  NONE       NaN   \n",
       "4  [{'x': -118.253027, 'y': 34.054704}, {'x': -11...  NONE       NaN   \n",
       "\n",
       "  datafile_id     pid  \n",
       "0         501  194017  \n",
       "1        1000  531318  \n",
       "2         154  144247  \n",
       "3         309  165476  \n",
       "4          51   44394  \n",
       "\n",
       "[5 rows x 22 columns]"
      ]
     },
     "execution_count": 666,
     "metadata": {},
     "output_type": "execute_result"
    }
   ],
   "source": [
    "df.head()"
   ]
  },
  {
   "cell_type": "code",
   "execution_count": 668,
   "metadata": {},
   "outputs": [],
   "source": [
    "df_datafiles=df_datafiles[['id', 'start_time', 'end_time']]"
   ]
  },
  {
   "cell_type": "markdown",
   "metadata": {},
   "source": [
    "#### Check LA city ONLY"
   ]
  },
  {
   "cell_type": "code",
   "execution_count": 6,
   "metadata": {},
   "outputs": [],
   "source": [
    "df = df[df.city == 'Los Angeles, CA']"
   ]
  },
  {
   "cell_type": "markdown",
   "metadata": {},
   "source": [
    "checking some info & drop unnecessary columns"
   ]
  },
  {
   "cell_type": "code",
   "execution_count": 669,
   "metadata": {},
   "outputs": [],
   "source": [
    "df_jam_w_time = pd.merge(df[['id', 'datafile_id', 'street', 'road_type', 'delay', 'length', 'line']], df_datafiles, left_on='datafile_id', right_on='id')"
   ]
  },
  {
   "cell_type": "code",
   "execution_count": 670,
   "metadata": {},
   "outputs": [],
   "source": [
    "df_jam_w_time.drop(columns=['id_y'], inplace=True)"
   ]
  },
  {
   "cell_type": "code",
   "execution_count": 671,
   "metadata": {},
   "outputs": [],
   "source": [
    "df_jam_w_time.rename({'id_x':'jam_id'}, axis='columns', inplace=True)"
   ]
  },
  {
   "cell_type": "code",
   "execution_count": 672,
   "metadata": {},
   "outputs": [],
   "source": [
    "import matplotlib.pyplot as plt"
   ]
  },
  {
   "cell_type": "markdown",
   "metadata": {},
   "source": [
    "#### Verify the time zone"
   ]
  },
  {
   "cell_type": "code",
   "execution_count": 673,
   "metadata": {},
   "outputs": [
    {
     "data": {
      "text/plain": [
       "datetime.datetime(2017, 12, 12, 0, 0, tzinfo=<DstTzInfo 'US/Pacific' LMT-1 day, 16:07:00 STD>)"
      ]
     },
     "execution_count": 673,
     "metadata": {},
     "output_type": "execute_result"
    }
   ],
   "source": [
    "datetime(2017,12,12,0,0,0,tzinfo=timezone('US/Pacific'))"
   ]
  },
  {
   "cell_type": "code",
   "execution_count": 674,
   "metadata": {},
   "outputs": [
    {
     "data": {
      "image/png": "[encoded data removed]",
      "text/plain": [
       "<Figure size 1080x432 with 1 Axes>"
      ]
     },
     "metadata": {
      "needs_background": "light"
     },
     "output_type": "display_data"
    }
   ],
   "source": [
    "df_jam_w_time.groupby(['start_time']).size().loc[datetime(2017,12,12,0,0,0):datetime(2017,12,13,0,0,0)].plot(figsize=(15, 6))\n",
    "plt.show()"
   ]
  },
  {
   "cell_type": "markdown",
   "metadata": {},
   "source": [
    "### You can see the rush hours are around 2am and 4pm. The rush hour at 2am doesn't make any sense. But by converting them to local PST(subtract hours): 6pm and 8am, this makes perfect sense."
   ]
  },
  {
   "cell_type": "code",
   "execution_count": 675,
   "metadata": {},
   "outputs": [],
   "source": [
    "from datetime import datetime\n",
    "from pytz import timezone\n",
    "import pytz"
   ]
  },
  {
   "cell_type": "code",
   "execution_count": 676,
   "metadata": {},
   "outputs": [],
   "source": [
    "df_jam_w_time['start_time'] = pd.to_datetime(df_jam_w_time['start_time'])\n",
    "df_jam_w_time['end_time'] = pd.to_datetime(df_jam_w_time['end_time'])"
   ]
  },
  {
   "cell_type": "markdown",
   "metadata": {},
   "source": [
    "Add time zone info"
   ]
  },
  {
   "cell_type": "code",
   "execution_count": 677,
   "metadata": {},
   "outputs": [],
   "source": [
    "df_jam_w_time['start_time'] = df_jam_w_time['start_time'].apply(timezone('UTC').localize)"
   ]
  },
  {
   "cell_type": "code",
   "execution_count": 678,
   "metadata": {},
   "outputs": [],
   "source": [
    "df_jam_w_time['end_time'] = df_jam_w_time['end_time'].apply(timezone('UTC').localize)"
   ]
  },
  {
   "cell_type": "code",
   "execution_count": 679,
   "metadata": {},
   "outputs": [
    {
     "name": "stdout",
     "output_type": "stream",
     "text": [
      "<class 'pandas.core.frame.DataFrame'>\n",
      "Int64Index: 6543827 entries, 0 to 6543826\n",
      "Data columns (total 9 columns):\n",
      "jam_id         int64\n",
      "datafile_id    int64\n",
      "street         object\n",
      "road_type      int64\n",
      "delay          int64\n",
      "length         int64\n",
      "line           object\n",
      "start_time     datetime64[ns, UTC]\n",
      "end_time       datetime64[ns, UTC]\n",
      "dtypes: datetime64[ns, UTC](2), int64(5), object(2)\n",
      "memory usage: 499.3+ MB\n"
     ]
    }
   ],
   "source": [
    "df_jam_w_time.info()"
   ]
  },
  {
   "cell_type": "code",
   "execution_count": 680,
   "metadata": {},
   "outputs": [],
   "source": [
    "df_jam_w_time.rename({'start_time':'start_time_utc', 'end_time':'end_time_utc'}, axis='columns', inplace=True)"
   ]
  },
  {
   "cell_type": "markdown",
   "metadata": {},
   "source": [
    "Adding PST timezone"
   ]
  },
  {
   "cell_type": "code",
   "execution_count": 681,
   "metadata": {},
   "outputs": [],
   "source": [
    "df_jam_w_time['start_time_pst'] = df_jam_w_time['start_time_utc'].apply(lambda x: x.astimezone(timezone('US/Pacific')))"
   ]
  },
  {
   "cell_type": "code",
   "execution_count": 682,
   "metadata": {},
   "outputs": [],
   "source": [
    "df_jam_w_time['end_time_pst'] = df_jam_w_time['end_time_utc'].apply(lambda x: x.astimezone(timezone('US/Pacific')))"
   ]
  },
  {
   "cell_type": "code",
   "execution_count": 683,
   "metadata": {},
   "outputs": [
    {
     "name": "stdout",
     "output_type": "stream",
     "text": [
      "<class 'pandas.core.frame.DataFrame'>\n",
      "Int64Index: 6543827 entries, 0 to 6543826\n",
      "Data columns (total 11 columns):\n",
      "jam_id            int64\n",
      "datafile_id       int64\n",
      "street            object\n",
      "road_type         int64\n",
      "delay             int64\n",
      "length            int64\n",
      "line              object\n",
      "start_time_utc    datetime64[ns, UTC]\n",
      "end_time_utc      datetime64[ns, UTC]\n",
      "start_time_pst    datetime64[ns, US/Pacific]\n",
      "end_time_pst      datetime64[ns, US/Pacific]\n",
      "dtypes: datetime64[ns, US/Pacific](2), datetime64[ns, UTC](2), int64(5), object(2)\n",
      "memory usage: 599.1+ MB\n"
     ]
    }
   ],
   "source": [
    "df_jam_w_time.info()"
   ]
  },
  {
   "cell_type": "code",
   "execution_count": 684,
   "metadata": {},
   "outputs": [
    {
     "data": {
      "image/png": "[encoded data removed]",
      "text/plain": [
       "<Figure size 1080x432 with 1 Axes>"
      ]
     },
     "metadata": {
      "needs_background": "light"
     },
     "output_type": "display_data"
    }
   ],
   "source": [
    "df_jam_w_time.groupby(['start_time_pst']).size().loc[datetime(2017,12,12,0,0,0):datetime(2017,12,13,0,0,0)].plot(figsize=(15, 6))\n",
    "plt.show()"
   ]
  },
  {
   "cell_type": "markdown",
   "metadata": {},
   "source": [
    "## Delay Outliers in a time window"
   ]
  },
  {
   "cell_type": "code",
   "execution_count": 685,
   "metadata": {},
   "outputs": [],
   "source": [
    "# df_group_frequency = df_jam_w_datafiles.groupby([''])"
   ]
  },
  {
   "cell_type": "code",
   "execution_count": 686,
   "metadata": {},
   "outputs": [],
   "source": [
    "from datetime import datetime, timedelta"
   ]
  },
  {
   "cell_type": "markdown",
   "metadata": {},
   "source": [
    "Check a time window on a Friday afternoon"
   ]
  },
  {
   "cell_type": "code",
   "execution_count": 687,
   "metadata": {},
   "outputs": [],
   "source": [
    "df_jam_time_index = df_jam_w_time.set_index('start_time_pst', drop=False)"
   ]
  },
  {
   "cell_type": "code",
   "execution_count": 688,
   "metadata": {},
   "outputs": [],
   "source": [
    "df_jam_time_index.sort_index(inplace=True)"
   ]
  },
  {
   "cell_type": "code",
   "execution_count": 689,
   "metadata": {},
   "outputs": [],
   "source": [
    "time_window_start = datetime(2017, 12, 15, 17,0,0, tzinfo=timezone('US/Pacific'))\n",
    "time_window_end = datetime(2017, 12, 15, 18,0,0, tzinfo=timezone('US/Pacific'))"
   ]
  },
  {
   "cell_type": "code",
   "execution_count": 690,
   "metadata": {},
   "outputs": [
    {
     "data": {
      "image/png": "[encoded data removed]",
      "text/plain": [
       "<Figure size 1080x432 with 1 Axes>"
      ]
     },
     "metadata": {
      "needs_background": "light"
     },
     "output_type": "display_data"
    }
   ],
   "source": [
    "df_jam_w_time.groupby(['start_time_pst']).size().loc[time_window_start:time_window_end].plot(figsize=(15, 6))\n",
    "plt.show()"
   ]
  },
  {
   "cell_type": "code",
   "execution_count": 691,
   "metadata": {},
   "outputs": [
    {
     "data": {
      "text/plain": [
       "36083"
      ]
     },
     "execution_count": 691,
     "metadata": {},
     "output_type": "execute_result"
    }
   ],
   "source": [
    "df_time_window = df_jam_time_index.loc[time_window_start:time_window_end]\n",
    "len(df_time_window)"
   ]
  },
  {
   "cell_type": "markdown",
   "metadata": {},
   "source": [
    "## Trying find outliers in categories of road types"
   ]
  },
  {
   "cell_type": "code",
   "execution_count": 697,
   "metadata": {},
   "outputs": [
    {
     "data": {
      "text/plain": [
       "[1, 2, 3, 4, 6, 7, 17, 20]"
      ]
     },
     "execution_count": 697,
     "metadata": {},
     "output_type": "execute_result"
    }
   ],
   "source": [
    "sorted(df.road_type.unique())"
   ]
  },
  {
   "cell_type": "code",
   "execution_count": 698,
   "metadata": {},
   "outputs": [
    {
     "data": {
      "text/plain": [
       "'\\nValue Type\\n1 Streets\\n2 Primary Street\\n3 Freeways\\n4 Ramps\\n5 Trails\\n6 Primary\\n7 Secondary\\n8,14 4X4 Trails\\n15 Ferry crossing\\n9 Walkway\\n10 Pedestrian\\n11 Exit\\n16 Stairway\\n17 Private road\\n18 Railroads\\n19 Runway/Taxiway\\n20 Parking lot road\\n21 Service road\\n'"
      ]
     },
     "execution_count": 698,
     "metadata": {},
     "output_type": "execute_result"
    }
   ],
   "source": [
    "\"\"\"\n",
    "Provided by WAZE data description\n",
    "Value Type\n",
    "1 Streets\n",
    "2 Primary Street\n",
    "3 Freeways\n",
    "4 Ramps\n",
    "5 Trails\n",
    "6 Primary\n",
    "7 Secondary\n",
    "8,14 4X4 Trails\n",
    "15 Ferry crossing\n",
    "9 Walkway\n",
    "10 Pedestrian\n",
    "11 Exit\n",
    "16 Stairway\n",
    "17 Private road\n",
    "18 Railroads\n",
    "19 Runway/Taxiway\n",
    "20 Parking lot road\n",
    "21 Service road\n",
    "\"\"\""
   ]
  },
  {
   "cell_type": "code",
   "execution_count": 699,
   "metadata": {},
   "outputs": [
    {
     "data": {
      "text/html": [
       "<div>\n",
       "<style scoped>\n",
       "    .dataframe tbody tr th:only-of-type {\n",
       "        vertical-align: middle;\n",
       "    }\n",
       "\n",
       "    .dataframe tbody tr th {\n",
       "        vertical-align: top;\n",
       "    }\n",
       "\n",
       "    .dataframe thead th {\n",
       "        text-align: right;\n",
       "    }\n",
       "</style>\n",
       "<table border=\"1\" class=\"dataframe\">\n",
       "  <thead>\n",
       "    <tr style=\"text-align: right;\">\n",
       "      <th></th>\n",
       "      <th>jam_id</th>\n",
       "      <th>datafile_id</th>\n",
       "      <th>street</th>\n",
       "      <th>road_type</th>\n",
       "      <th>delay</th>\n",
       "      <th>length</th>\n",
       "      <th>line</th>\n",
       "      <th>start_time_utc</th>\n",
       "      <th>end_time_utc</th>\n",
       "      <th>start_time_pst</th>\n",
       "      <th>end_time_pst</th>\n",
       "    </tr>\n",
       "  </thead>\n",
       "  <tbody>\n",
       "    <tr>\n",
       "      <th>0</th>\n",
       "      <td>1866670844</td>\n",
       "      <td>501</td>\n",
       "      <td>Hope St</td>\n",
       "      <td>7</td>\n",
       "      <td>-1</td>\n",
       "      <td>250</td>\n",
       "      <td>[{'x': -118.253027, 'y': 34.054704}, {'x': -11...</td>\n",
       "      <td>2017-12-12 15:43:00+00:00</td>\n",
       "      <td>2017-12-12 15:44:00+00:00</td>\n",
       "      <td>2017-12-12 07:43:00-08:00</td>\n",
       "      <td>2017-12-12 07:44:00-08:00</td>\n",
       "    </tr>\n",
       "    <tr>\n",
       "      <th>1</th>\n",
       "      <td>1873311008</td>\n",
       "      <td>501</td>\n",
       "      <td>Hope St SOUTH</td>\n",
       "      <td>7</td>\n",
       "      <td>-1</td>\n",
       "      <td>153</td>\n",
       "      <td>[{'x': -118.253027, 'y': 34.054704}, {'x': -11...</td>\n",
       "      <td>2017-12-12 15:43:00+00:00</td>\n",
       "      <td>2017-12-12 15:44:00+00:00</td>\n",
       "      <td>2017-12-12 07:43:00-08:00</td>\n",
       "      <td>2017-12-12 07:44:00-08:00</td>\n",
       "    </tr>\n",
       "    <tr>\n",
       "      <th>2</th>\n",
       "      <td>1873311278</td>\n",
       "      <td>501</td>\n",
       "      <td>Aqua Vista St</td>\n",
       "      <td>2</td>\n",
       "      <td>-1</td>\n",
       "      <td>101</td>\n",
       "      <td>[{'x': -118.3757, 'y': 34.14497}, {'x': -118.3...</td>\n",
       "      <td>2017-12-12 15:43:00+00:00</td>\n",
       "      <td>2017-12-12 15:44:00+00:00</td>\n",
       "      <td>2017-12-12 07:43:00-08:00</td>\n",
       "      <td>2017-12-12 07:44:00-08:00</td>\n",
       "    </tr>\n",
       "    <tr>\n",
       "      <th>3</th>\n",
       "      <td>1879251557</td>\n",
       "      <td>501</td>\n",
       "      <td>Aqua Vista St</td>\n",
       "      <td>2</td>\n",
       "      <td>-1</td>\n",
       "      <td>101</td>\n",
       "      <td>[{'x': -118.37788, 'y': 34.144971}, {'x': -118...</td>\n",
       "      <td>2017-12-12 15:43:00+00:00</td>\n",
       "      <td>2017-12-12 15:44:00+00:00</td>\n",
       "      <td>2017-12-12 07:43:00-08:00</td>\n",
       "      <td>2017-12-12 07:44:00-08:00</td>\n",
       "    </tr>\n",
       "    <tr>\n",
       "      <th>4</th>\n",
       "      <td>1867711563</td>\n",
       "      <td>501</td>\n",
       "      <td>Aqua Vista St</td>\n",
       "      <td>2</td>\n",
       "      <td>-1</td>\n",
       "      <td>101</td>\n",
       "      <td>[{'x': -118.37679, 'y': 34.144971}, {'x': -118...</td>\n",
       "      <td>2017-12-12 15:43:00+00:00</td>\n",
       "      <td>2017-12-12 15:44:00+00:00</td>\n",
       "      <td>2017-12-12 07:43:00-08:00</td>\n",
       "      <td>2017-12-12 07:44:00-08:00</td>\n",
       "    </tr>\n",
       "  </tbody>\n",
       "</table>\n",
       "</div>"
      ],
      "text/plain": [
       "       jam_id  datafile_id         street  road_type  delay  length  \\\n",
       "0  1866670844          501        Hope St          7     -1     250   \n",
       "1  1873311008          501  Hope St SOUTH          7     -1     153   \n",
       "2  1873311278          501  Aqua Vista St          2     -1     101   \n",
       "3  1879251557          501  Aqua Vista St          2     -1     101   \n",
       "4  1867711563          501  Aqua Vista St          2     -1     101   \n",
       "\n",
       "                                                line  \\\n",
       "0  [{'x': -118.253027, 'y': 34.054704}, {'x': -11...   \n",
       "1  [{'x': -118.253027, 'y': 34.054704}, {'x': -11...   \n",
       "2  [{'x': -118.3757, 'y': 34.14497}, {'x': -118.3...   \n",
       "3  [{'x': -118.37788, 'y': 34.144971}, {'x': -118...   \n",
       "4  [{'x': -118.37679, 'y': 34.144971}, {'x': -118...   \n",
       "\n",
       "             start_time_utc              end_time_utc  \\\n",
       "0 2017-12-12 15:43:00+00:00 2017-12-12 15:44:00+00:00   \n",
       "1 2017-12-12 15:43:00+00:00 2017-12-12 15:44:00+00:00   \n",
       "2 2017-12-12 15:43:00+00:00 2017-12-12 15:44:00+00:00   \n",
       "3 2017-12-12 15:43:00+00:00 2017-12-12 15:44:00+00:00   \n",
       "4 2017-12-12 15:43:00+00:00 2017-12-12 15:44:00+00:00   \n",
       "\n",
       "             start_time_pst              end_time_pst  \n",
       "0 2017-12-12 07:43:00-08:00 2017-12-12 07:44:00-08:00  \n",
       "1 2017-12-12 07:43:00-08:00 2017-12-12 07:44:00-08:00  \n",
       "2 2017-12-12 07:43:00-08:00 2017-12-12 07:44:00-08:00  \n",
       "3 2017-12-12 07:43:00-08:00 2017-12-12 07:44:00-08:00  \n",
       "4 2017-12-12 07:43:00-08:00 2017-12-12 07:44:00-08:00  "
      ]
     },
     "execution_count": 699,
     "metadata": {},
     "output_type": "execute_result"
    }
   ],
   "source": [
    "df_jam_w_time.head()"
   ]
  },
  {
   "cell_type": "code",
   "execution_count": 700,
   "metadata": {},
   "outputs": [],
   "source": [
    "df_roadtype_1 = df_jam_w_time[df_jam_w_time.road_type == 1]"
   ]
  },
  {
   "cell_type": "code",
   "execution_count": 701,
   "metadata": {},
   "outputs": [],
   "source": [
    "df_roadtype_2 = df_jam_w_time[df_jam_w_time.road_type == 2]"
   ]
  },
  {
   "cell_type": "code",
   "execution_count": 702,
   "metadata": {},
   "outputs": [],
   "source": [
    "df_roadtype_3 = df_jam_w_time[df_jam_w_time.road_type == 3]"
   ]
  },
  {
   "cell_type": "code",
   "execution_count": 703,
   "metadata": {},
   "outputs": [],
   "source": [
    "df_roadtype_4 = df_jam_w_time[df_jam_w_time.road_type == 4]"
   ]
  },
  {
   "cell_type": "code",
   "execution_count": 704,
   "metadata": {},
   "outputs": [],
   "source": [
    "df_roadtype_6 = df_jam_w_time[df_jam_w_time.road_type == 6]"
   ]
  },
  {
   "cell_type": "code",
   "execution_count": 705,
   "metadata": {},
   "outputs": [],
   "source": [
    "df_roadtype_7 = df_jam_w_time[df_jam_w_time.road_type == 7]"
   ]
  },
  {
   "cell_type": "code",
   "execution_count": 706,
   "metadata": {},
   "outputs": [],
   "source": [
    "df_roadtype_17 = df_jam_w_time[df_jam_w_time.road_type == 17]"
   ]
  },
  {
   "cell_type": "code",
   "execution_count": 707,
   "metadata": {},
   "outputs": [],
   "source": [
    "df_roadtype_20 = df_jam_w_time[df_jam_w_time.road_type == 20]"
   ]
  },
  {
   "cell_type": "code",
   "execution_count": 708,
   "metadata": {},
   "outputs": [],
   "source": [
    "upperbound_delay_rt1_2std = df_roadtype_1.delay.mean() + 2 * df_roadtype_1.delay.std()"
   ]
  },
  {
   "cell_type": "code",
   "execution_count": 709,
   "metadata": {},
   "outputs": [],
   "source": [
    "upperbound_delay_rt2_2std = df_roadtype_2.delay.mean() + 2 * df_roadtype_2.delay.std()"
   ]
  },
  {
   "cell_type": "code",
   "execution_count": 710,
   "metadata": {},
   "outputs": [],
   "source": [
    "upperbound_delay_rt3_2std = df_roadtype_3.delay.mean() + 2 * df_roadtype_3.delay.std()"
   ]
  },
  {
   "cell_type": "code",
   "execution_count": 711,
   "metadata": {},
   "outputs": [],
   "source": [
    "upperbound_delay_rt4_2std = df_roadtype_4.delay.mean() + 2 * df_roadtype_4.delay.std()"
   ]
  },
  {
   "cell_type": "code",
   "execution_count": 712,
   "metadata": {},
   "outputs": [],
   "source": [
    "upperbound_delay_rt6_2std = df_roadtype_6.delay.mean() + 2 * df_roadtype_6.delay.std()"
   ]
  },
  {
   "cell_type": "code",
   "execution_count": 713,
   "metadata": {},
   "outputs": [],
   "source": [
    "upperbound_delay_rt7_2std = df_roadtype_7.delay.mean() + 2 * df_roadtype_7.delay.std()"
   ]
  },
  {
   "cell_type": "code",
   "execution_count": 714,
   "metadata": {},
   "outputs": [],
   "source": [
    "upperbound_delay_rt17_2std = df_roadtype_17.delay.mean() + 2 * df_roadtype_17.delay.std()"
   ]
  },
  {
   "cell_type": "code",
   "execution_count": 715,
   "metadata": {},
   "outputs": [],
   "source": [
    "upperbound_delay_rt20_2std = df_roadtype_20.delay.mean() + 2 * df_roadtype_20.delay.std()"
   ]
  },
  {
   "cell_type": "code",
   "execution_count": 716,
   "metadata": {},
   "outputs": [],
   "source": [
    "delay_outliers_rt1 = df_time_window[(df_time_window.road_type == 1) & \\\n",
    "                                    ((df_time_window.delay > upperbound_delay_rt1_2std) | \\\n",
    "                                     (df_time_window.delay == -1))]"
   ]
  },
  {
   "cell_type": "code",
   "execution_count": 717,
   "metadata": {},
   "outputs": [],
   "source": [
    "delay_outliers_rt1.name = \"1-Street\""
   ]
  },
  {
   "cell_type": "code",
   "execution_count": 718,
   "metadata": {},
   "outputs": [],
   "source": [
    "delay_outliers_rt2 = df_time_window[(df_time_window.road_type == 2) & \\\n",
    "                                    ((df_time_window.delay > upperbound_delay_rt2_2std) | \\\n",
    "                                     (df_time_window.delay == -1))]"
   ]
  },
  {
   "cell_type": "code",
   "execution_count": 719,
   "metadata": {},
   "outputs": [],
   "source": [
    "delay_outliers_rt2.name = \"2-Primary Street\""
   ]
  },
  {
   "cell_type": "code",
   "execution_count": 720,
   "metadata": {},
   "outputs": [],
   "source": [
    "delay_outliers_rt3 = df_time_window[(df_time_window.road_type == 3) & \\\n",
    "                                    ((df_time_window.delay > upperbound_delay_rt3_2std) | \\\n",
    "                                     (df_time_window.delay == -1))]"
   ]
  },
  {
   "cell_type": "code",
   "execution_count": 721,
   "metadata": {},
   "outputs": [],
   "source": [
    "delay_outliers_rt3.name = \"3-Freeways\""
   ]
  },
  {
   "cell_type": "code",
   "execution_count": 722,
   "metadata": {},
   "outputs": [],
   "source": [
    "delay_outliers_rt4 = df_time_window[(df_time_window.road_type == 4) & \\\n",
    "                                    ((df_time_window.delay > upperbound_delay_rt4_2std) | \\\n",
    "                                     (df_time_window.delay == -1))]"
   ]
  },
  {
   "cell_type": "code",
   "execution_count": 723,
   "metadata": {},
   "outputs": [],
   "source": [
    "delay_outliers_rt4.name = \"4-Ramps\""
   ]
  },
  {
   "cell_type": "code",
   "execution_count": 724,
   "metadata": {},
   "outputs": [],
   "source": [
    "delay_outliers_rt6 = df_time_window[(df_time_window.road_type == 6) & \\\n",
    "                                    ((df_time_window.delay > upperbound_delay_rt6_2std) | \\\n",
    "                                     (df_time_window.delay == -1))]"
   ]
  },
  {
   "cell_type": "code",
   "execution_count": 725,
   "metadata": {},
   "outputs": [],
   "source": [
    "delay_outliers_rt6.name = \"6-Primary\""
   ]
  },
  {
   "cell_type": "code",
   "execution_count": 726,
   "metadata": {},
   "outputs": [],
   "source": [
    "delay_outliers_rt7 = df_time_window[(df_time_window.road_type == 7) & \\\n",
    "                                    ((df_time_window.delay > upperbound_delay_rt7_2std) | \\\n",
    "                                     (df_time_window.delay == -1))]"
   ]
  },
  {
   "cell_type": "code",
   "execution_count": 727,
   "metadata": {},
   "outputs": [],
   "source": [
    "delay_outliers_rt7.name = \"7-Secondary\""
   ]
  },
  {
   "cell_type": "code",
   "execution_count": 728,
   "metadata": {},
   "outputs": [],
   "source": [
    "delay_outliers_rt17 = df_time_window[(df_time_window.road_type == 17) & \\\n",
    "                                    ((df_time_window.delay > upperbound_delay_rt17_2std) | \\\n",
    "                                     (df_time_window.delay == -1))]"
   ]
  },
  {
   "cell_type": "code",
   "execution_count": 729,
   "metadata": {},
   "outputs": [],
   "source": [
    "delay_outliers_rt17.name = \"17-Private Road\""
   ]
  },
  {
   "cell_type": "code",
   "execution_count": 730,
   "metadata": {},
   "outputs": [],
   "source": [
    "delay_outliers_rt20 = df_time_window[(df_time_window.road_type == 20) & \\\n",
    "                                    ((df_time_window.delay > upperbound_delay_rt20_2std) | \\\n",
    "                                     (df_time_window.delay == -1))]"
   ]
  },
  {
   "cell_type": "code",
   "execution_count": 731,
   "metadata": {},
   "outputs": [],
   "source": [
    "delay_outliers_rt20.name = \"20-Parking lot road\""
   ]
  },
  {
   "cell_type": "code",
   "execution_count": 732,
   "metadata": {},
   "outputs": [],
   "source": [
    "ls_delay_outliers = [delay_outliers_rt1, delay_outliers_rt2, delay_outliers_rt3, delay_outliers_rt4, \n",
    "                    delay_outliers_rt6, delay_outliers_rt7, delay_outliers_rt17, delay_outliers_rt20]"
   ]
  },
  {
   "cell_type": "code",
   "execution_count": 792,
   "metadata": {},
   "outputs": [],
   "source": [
    "# make a helper function that will make the input for graph making tool\n",
    "def getGeoJson(lines):\n",
    "    count=0\n",
    "    feature_coll = []\n",
    "    p = {'sample': 450, 'weight': 1.5}\n",
    "    for line in lines:\n",
    "        points = []\n",
    "        line = eval(line)\n",
    "        for point in line:\n",
    "            points.append((point['x'], point['y']))\n",
    "        feature_coll.append(Feature(geometry=LineString(points), properties=p))\n",
    "    return FeatureCollection(feature_coll)"
   ]
  },
  {
   "cell_type": "code",
   "execution_count": 805,
   "metadata": {},
   "outputs": [],
   "source": [
    "def show_in_map(df):\n",
    "    if len(df)==0:\n",
    "        print(f\"No outliers found for {df.name}\")\n",
    "        return\n",
    "    print(df.name)\n",
    "    viz = LinestringViz(getGeoJson(df.line), \n",
    "                        access_token=token,\n",
    "                        color_property='sample',\n",
    "                        color_stops=create_color_stops([0, 350, 400, 500, 600], colors='Reds'),\n",
    "                        line_stroke='--',\n",
    "                        line_width_property='weight',\n",
    "                        line_width_stops=create_numeric_stops([0, 1, 2, 3, 4, 5], 0, 10),\n",
    "                        opacity=0.8,\n",
    "                        center = (-118.2427, 34.0537),\n",
    "                        zoom = 9,\n",
    "                        below_layer='waterway-label')\n",
    "#     viz.show()\n",
    "    html = open(f\"/tmp/{df.name}-outliers.html\", \"w\")\n",
    "    html.write( viz.create_html() )\n",
    "    html.close()"
   ]
  },
  {
   "cell_type": "code",
   "execution_count": 806,
   "metadata": {},
   "outputs": [
    {
     "name": "stdout",
     "output_type": "stream",
     "text": [
      "1-Street\n",
      "2-Primary Street\n",
      "3-Freeways\n",
      "4-Ramps\n",
      "6-Primary\n",
      "7-Secondary\n",
      "No outliers found for 17-Private Road\n",
      "No outliers found for 20-Parking lot road\n"
     ]
    }
   ],
   "source": [
    "for x in ls_delay_outliers:\n",
    "    show_in_map(x)"
   ]
  },
  {
   "cell_type": "markdown",
   "metadata": {},
   "source": [
    "#### And we can get to know which streets actually have jams"
   ]
  },
  {
   "cell_type": "code",
   "execution_count": 766,
   "metadata": {},
   "outputs": [
    {
     "data": {
      "text/plain": [
       "array(['to I-405 S / Long Beach', 'to Sherman Way - W', nan,\n",
       "       'to I-405 N / Sacramento', 'to Glendale Blvd - South',\n",
       "       'to I-405 N', 'Exit 134A: Soto St', 'Exit 1D: Soto St',\n",
       "       'to US-101 N / Ventura', 'to I-405 S / Santa Monica',\n",
       "       'to Santa Fe Ave', 'to Hoover St', 'Exit 140A: Fletcher Dr',\n",
       "       'Exit 48: La Tijera Blvd', 'Exit 55B: Wilshire Blvd E'],\n",
       "      dtype=object)"
      ]
     },
     "execution_count": 766,
     "metadata": {},
     "output_type": "execute_result"
    }
   ],
   "source": [
    "delay_outliers_rt4.street.unique()"
   ]
  }
 ],
 "metadata": {
  "kernelspec": {
   "display_name": "Python 3",
   "language": "python",
   "name": "python3"
  },
  "language_info": {
   "codemirror_mode": {
    "name": "ipython",
    "version": 3
   },
   "file_extension": ".py",
   "mimetype": "text/x-python",
   "name": "python",
   "nbconvert_exporter": "python",
   "pygments_lexer": "ipython3",
   "version": "3.6.4"
  }
 },
 "nbformat": 4,
 "nbformat_minor": 2
}
