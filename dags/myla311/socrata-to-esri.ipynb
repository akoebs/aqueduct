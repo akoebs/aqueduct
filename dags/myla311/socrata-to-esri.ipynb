{
 "cells": [
  {
   "cell_type": "markdown",
   "metadata": {},
   "source": [
    "## tmp DAG tester to load"
   ]
  },
  {
   "cell_type": "code",
   "execution_count": 3,
   "metadata": {},
   "outputs": [],
   "source": [
    "import pandas as pd\n",
    "import arcgis\n",
    "from arcgis.gis import GIS\n",
    "import geopandas as gpd"
   ]
  },
  {
   "cell_type": "code",
   "execution_count": 4,
   "metadata": {},
   "outputs": [
    {
     "name": "stderr",
     "output_type": "stream",
     "text": [
      "/home/howens/anaconda3/envs/py36/lib/python3.6/site-packages/IPython/core/interactiveshell.py:3058: DtypeWarning: Columns (14,24) have mixed types. Specify dtype option on import or set low_memory=False.\n",
      "  interactivity=interactivity, compiler=compiler, result=result)\n"
     ]
    }
   ],
   "source": [
    "df = pd.read_csv('./service_requests.csv')"
   ]
  },
  {
   "cell_type": "code",
   "execution_count": 7,
   "metadata": {},
   "outputs": [],
   "source": [
    "# data clean \n",
    "df[[\"Latitude\", \"Longitude\"]] = df[[\"Latitude\", \"Longitude\"]].apply(pd.to_numeric)\n",
    "gdf = gpd.GeoDataFrame(\n",
    "      df, geometry=gpd.points_from_xy(df.Longitude, df.Latitude))"
   ]
  },
  {
   "cell_type": "code",
   "execution_count": 8,
   "metadata": {},
   "outputs": [],
   "source": [
    "gis = GIS(\"http://lahub.maps.arcgis.com/home/index.html\", \"hunterowens\", os.environ.get('ESRI_PW'))"
   ]
  },
  {
   "cell_type": "code",
   "execution_count": 9,
   "metadata": {},
   "outputs": [],
   "source": [
    "item_id = '9818f649545d44a197a913c8b8dff76d'"
   ]
  },
  {
   "cell_type": "code",
   "execution_count": 10,
   "metadata": {},
   "outputs": [],
   "source": [
    "from arcgis.gis import Item\n",
    "item = Item(gis, item_id)"
   ]
  },
  {
   "cell_type": "code",
   "execution_count": 13,
   "metadata": {},
   "outputs": [],
   "source": [
    "gdf.head(10).to_file('/tmp/311-request', driver=\"ESRI Shapefile\")"
   ]
  },
  {
   "cell_type": "code",
   "execution_count": 22,
   "metadata": {},
   "outputs": [
    {
     "name": "stdout",
     "output_type": "stream",
     "text": [
      "  adding: tmp/311-request/ (stored 0%)\n",
      "  adding: tmp/311-request/311-request.cpg (stored 0%)\n",
      "  adding: tmp/311-request/311-request.dbf (deflated 92%)\n",
      "  adding: tmp/311-request/311-request.shp (deflated 43%)\n",
      "  adding: tmp/311-request/311-request.shx (deflated 54%)\n"
     ]
    }
   ],
   "source": [
    "!zip -r /tmp/requests-311.zip /tmp/311-request"
   ]
  },
  {
   "cell_type": "code",
   "execution_count": 27,
   "metadata": {},
   "outputs": [],
   "source": [
    "data_file_location = '/tmp/requests-311.zip'\n",
    "requests = gis.content.add(item, data=data_file_location)"
   ]
  },
  {
   "cell_type": "code",
   "execution_count": 26,
   "metadata": {},
   "outputs": [
    {
     "data": {
      "text/html": [
       "<div class=\"item_container\" style=\"height: auto; overflow: hidden; border: 1px solid #cfcfcf; border-radius: 2px; background: #f6fafa; line-height: 1.21429em; padding: 10px;\">\n",
       "                    <div class=\"item_left\" style=\"width: 210px; float: left;\">\n",
       "                       <a href='http://lahub.maps.arcgis.com/home/item.html?id=a4ce85304084404a97d7ef6e837e6405' target='_blank'>\n",
       "                        <img src='http://static.arcgis.com/images/desktopapp.png' class=\"itemThumbnail\">\n",
       "                       </a>\n",
       "                    </div>\n",
       "\n",
       "                    <div class=\"item_right\"     style=\"float: none; width: auto; overflow: hidden;\">\n",
       "                        <a href='http://lahub.maps.arcgis.com/home/item.html?id=a4ce85304084404a97d7ef6e837e6405' target='_blank'><b>service_requests_bulky</b>\n",
       "                        </a>\n",
       "                        <br/><img src='http://lahub.maps.arcgis.com/home/js/jsapi/esri/css/images/item_type_icons/featureshosted16.png' style=\"vertical-align:middle;\">Feature Layer Collection by hunterowens\n",
       "                        <br/>Last Modified: November 22, 2019\n",
       "                        <br/>0 comments, 0 views\n",
       "                    </div>\n",
       "                </div>\n",
       "                "
      ],
      "text/plain": [
       "<Item title:\"service_requests_bulky\" type:Feature Layer Collection owner:hunterowens>"
      ]
     },
     "execution_count": 26,
     "metadata": {},
     "output_type": "execute_result"
    }
   ],
   "source": [
    "requests"
   ]
  },
  {
   "cell_type": "code",
   "execution_count": 28,
   "metadata": {},
   "outputs": [
    {
     "data": {
      "text/html": [
       "<div class=\"item_container\" style=\"height: auto; overflow: hidden; border: 1px solid #cfcfcf; border-radius: 2px; background: #f6fafa; line-height: 1.21429em; padding: 10px;\">\n",
       "                    <div class=\"item_left\" style=\"width: 210px; float: left;\">\n",
       "                       <a href='http://lahub.maps.arcgis.com/home/item.html?id=9818f649545d44a197a913c8b8dff76d' target='_blank'>\n",
       "                        <img src='data:image/png;base64,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' width='200' height='133' class=\"itemThumbnail\">\n",
       "                       </a>\n",
       "                    </div>\n",
       "\n",
       "                    <div class=\"item_right\"     style=\"float: none; width: auto; overflow: hidden;\">\n",
       "                        <a href='http://lahub.maps.arcgis.com/home/item.html?id=9818f649545d44a197a913c8b8dff76d' target='_blank'><b>service_requests_bulky</b>\n",
       "                        </a>\n",
       "                        <br/><img src='http://lahub.maps.arcgis.com/home/js/jsapi/esri/css/images/item_type_icons/featureshosted16.png' style=\"vertical-align:middle;\">Feature Layer Collection by Tiffany.Chu_lahub\n",
       "                        <br/>Last Modified: November 20, 2019\n",
       "                        <br/>0 comments, 60 views\n",
       "                    </div>\n",
       "                </div>\n",
       "                "
      ],
      "text/plain": [
       "<Item title:\"service_requests_bulky\" type:Feature Layer Collection owner:Tiffany.Chu_lahub>"
      ]
     },
     "execution_count": 28,
     "metadata": {},
     "output_type": "execute_result"
    }
   ],
   "source": [
    "item"
   ]
  },
  {
   "cell_type": "code",
   "execution_count": null,
   "metadata": {},
   "outputs": [],
   "source": []
  }
 ],
 "metadata": {
  "kernelspec": {
   "display_name": "Python 3",
   "language": "python",
   "name": "python3"
  },
  "language_info": {
   "codemirror_mode": {
    "name": "ipython",
    "version": 3
   },
   "file_extension": ".py",
   "mimetype": "text/x-python",
   "name": "python",
   "nbconvert_exporter": "python",
   "pygments_lexer": "ipython3",
   "version": "3.6.7"
  }
 },
 "nbformat": 4,
 "nbformat_minor": 4
}